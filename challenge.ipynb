{
 "metadata": {
  "language_info": {
   "codemirror_mode": {
    "name": "ipython",
    "version": 3
   },
   "file_extension": ".py",
   "mimetype": "text/x-python",
   "name": "python",
   "nbconvert_exporter": "python",
   "pygments_lexer": "ipython3",
   "version": "3.8.2-final"
  },
  "orig_nbformat": 2,
  "kernelspec": {
   "name": "python3",
   "display_name": "Python 3.8.2 64-bit ('env': venv)",
   "metadata": {
    "interpreter": {
     "hash": "62e8938e209df4ed0779f62144e20763cf344d6b5a73608689e1df7230ddf964"
    }
   }
  }
 },
 "nbformat": 4,
 "nbformat_minor": 2,
 "cells": [
  {
   "cell_type": "code",
   "execution_count": 1,
   "metadata": {},
   "outputs": [],
   "source": [
    "# imports\n",
    "import pandas as pd\n",
    "from sqlalchemy import create_engine\n",
    "from sqlalchemy.types import Float, Text, DateTime"
   ]
  },
  {
   "cell_type": "code",
   "execution_count": 2,
   "metadata": {},
   "outputs": [],
   "source": [
    "# reading the CSV file\n",
    "\n",
    "# location of the CSV sample file\n",
    "csv = './pp-complete.csv'\n",
    "\n",
    "# what each column in the CSV represents\n",
    "header = ['id',\n",
    "          'price',\n",
    "          'transfer_date',\n",
    "          'postcode',\n",
    "          'type',\n",
    "          'old_new',\n",
    "          'duration',\n",
    "          'paon',\n",
    "          'saon',\n",
    "          'street',\n",
    "          'locality',\n",
    "          'city',\n",
    "          'district',\n",
    "          'town',\n",
    "          'category_type',\n",
    "          'status']\n",
    "\n",
    "df = pd.read_csv(csv,names=header)"
   ]
  },
  {
   "cell_type": "code",
   "execution_count": 3,
   "metadata": {},
   "outputs": [],
   "source": [
    "# preparing the CSV to be loaded\n",
    "\n",
    "# Filtering only relevant columns\n",
    "pdd = df[['price','transfer_date','postcode','type','town']]\n",
    "\n",
    "# Postcode should not be null\n",
    "pdd = pdd[pdd.postcode.notnull()]\n",
    "\n",
    "# Property type must be transformed: D -> DETACHED, S -> SEMI_DETACHED, T -> TERRACED, F -> FLATS, O -> OTHER\n",
    "pdd['type'] = pdd['type'].replace(\n",
    "    ['D','S','T','F','O'],\n",
    "    ['DETACHED', 'SEMI_DETACHED', 'TERRACED', 'FLATS', 'OTHER'])\n"
   ]
  },
  {
   "cell_type": "code",
   "execution_count": 4,
   "metadata": {},
   "outputs": [],
   "source": [
    "# connect to the local Postgres instance\n",
    "engine = create_engine('postgresql://diego@localhost:5432/plentific_challenge_db')\n",
    "\n",
    "# creating table using DataFrame\n",
    "pdd.to_sql('pdd', \n",
    "            con=engine,\n",
    "            index=False,\n",
    "            if_exists='replace',\n",
    "            chunksize=1000,\n",
    "            dtype={\n",
    "                'price':Float,\n",
    "                'transfer_date':DateTime,\n",
    "                'postcode':Text,\n",
    "                'type':Text,\n",
    "                'town':Text}\n",
    "            )\n"
   ]
  },
  {
   "cell_type": "code",
   "execution_count": 5,
   "metadata": {},
   "outputs": [
    {
     "output_type": "stream",
     "name": "stdout",
     "text": [
      "       type date_trunc      avg\n0  DETACHED 1995-03-01  78450.0\n"
     ]
    }
   ],
   "source": [
    "# first report\n",
    "\n",
    "# assuming these would input by the user:\n",
    "from_date_given = '1995-03-01'\n",
    "to_date_given = '1995-07-20'\n",
    "postcode_given = 'S36 6UH'\n",
    "\n",
    "query = engine.execute(\n",
    "\"\"\"\n",
    "    select type, date_trunc('month',transfer_date),avg(price)\n",
    "    from pdd\n",
    "    where postcode = '{postcode}'\n",
    "        and transfer_date between '{from_date}' AND '{to_date}'\n",
    "    group by 1,2\n",
    "\"\"\".format(postcode = postcode_given,\n",
    "           from_date = from_date_given,\n",
    "           to_date = to_date_given)\n",
    ")\n",
    "\n",
    "result = pd.DataFrame(query.fetchall())\n",
    "result.columns = query.keys()\n",
    "print(result)\n"
   ]
  },
  {
   "cell_type": "code",
   "execution_count": 6,
   "metadata": {},
   "outputs": [
    {
     "output_type": "stream",
     "name": "stdout",
     "text": [
      "(81625.0, 88250.0]      4\n(74947.0, 81625.0]      3\n(114750.0, 121375.0]    1\n(121375.0, 128000.0]    1\n(88250.0, 94875.0]      0\n(94875.0, 101500.0]     0\n(101500.0, 108125.0]    0\n(108125.0, 114750.0]    0\nName: 0, dtype: int64\n"
     ]
    }
   ],
   "source": [
    "# second report\n",
    "\n",
    "# assuming these would input by the user:\n",
    "postcode_given = 'S36 6UH'\n",
    "year_given = 1995\n",
    "\n",
    "query = engine.execute(\n",
    "\"\"\"\n",
    "    select price\n",
    "    from pdd\n",
    "    where postcode = '{postcode}'\n",
    "        and date_part('year',transfer_date)={year}\n",
    "\"\"\".format(postcode = postcode_given,\n",
    "           year = year_given)\n",
    ")\n",
    "\n",
    "result = pd.DataFrame(query.fetchall())\n",
    "result_consolidated = pd.cut(result.iloc[:,0],bins=8).value_counts()\n",
    "print(result_consolidated)"
   ]
  },
  {
   "cell_type": "code",
   "execution_count": null,
   "metadata": {},
   "outputs": [],
   "source": []
  }
 ]
}